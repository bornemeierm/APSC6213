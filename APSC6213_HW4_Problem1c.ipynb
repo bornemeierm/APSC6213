{
 "metadata": {
  "name": "",
  "signature": "sha256:12ba5c1ffb9e5ab561f4972a0a8b2dcdbff5a988754203f5a35698e277cd4ecf"
 },
 "nbformat": 3,
 "nbformat_minor": 0,
 "worksheets": [
  {
   "cells": [
    {
     "cell_type": "code",
     "collapsed": false,
     "input": [
      "##APSC 6213 HW 4 Problem 1c"
     ],
     "language": "python",
     "metadata": {},
     "outputs": [],
     "prompt_number": 31
    },
    {
     "cell_type": "code",
     "collapsed": false,
     "input": [
      "##inits\n",
      "import sympy;\n",
      "import numpy;\n",
      "import matplotlib.pyplot as plot\n",
      "import math;\n",
      "from mpl_toolkits.mplot3d import Axes3D as ax\n",
      "%matplotlib inline"
     ],
     "language": "python",
     "metadata": {},
     "outputs": [],
     "prompt_number": 32
    },
    {
     "cell_type": "code",
     "collapsed": false,
     "input": [
      "#I.C.'s\n",
      "L = 1.0                          #length of bar                         \n",
      "dx = 500.                        #number of steps along the bar in space\n",
      "\n",
      "\n",
      "                    #number of n terms to compute in infinite series\n",
      "Xrange = linspace(0,1,dx)        #number of steps from 0 to L (number of spatial gridpoints along the bar) \n",
      "   \n",
      "trange= [0] #,.001, .01, .05, .1, 1.0, 10, 100]\n",
      "D = 1                            #Thermal diffusivity of stainless .000003352   ; we use 1 to speed it up\n",
      "                                 #steel at 25degrees C   \n",
      "    \n",
      "u = numpy.zeros((dx,1,4))#Solution array: dx # rows, totaltime # columns\n",
      "                                 #(for t=0,1,2,3,4), and 4 elements \n",
      "                                 #(Temp(T), position along bar (X), time(t), \n",
      "n = int(1000);                                #number of terms in series(n)\n",
      "nrange = linspace(1,n,n)                \n",
      "Tsum = numpy.linspace(1,n,n)"
     ],
     "language": "python",
     "metadata": {},
     "outputs": [],
     "prompt_number": 33
    },
    {
     "cell_type": "code",
     "collapsed": false,
     "input": [
      "print(nrange)"
     ],
     "language": "python",
     "metadata": {},
     "outputs": [
      {
       "output_type": "stream",
       "stream": "stdout",
       "text": [
        "[    1.     2.     3.     4.     5.     6.     7.     8.     9.    10.\n",
        "    11.    12.    13.    14.    15.    16.    17.    18.    19.    20.\n",
        "    21.    22.    23.    24.    25.    26.    27.    28.    29.    30.\n",
        "    31.    32.    33.    34.    35.    36.    37.    38.    39.    40.\n",
        "    41.    42.    43.    44.    45.    46.    47.    48.    49.    50.\n",
        "    51.    52.    53.    54.    55.    56.    57.    58.    59.    60.\n",
        "    61.    62.    63.    64.    65.    66.    67.    68.    69.    70.\n",
        "    71.    72.    73.    74.    75.    76.    77.    78.    79.    80.\n",
        "    81.    82.    83.    84.    85.    86.    87.    88.    89.    90.\n",
        "    91.    92.    93.    94.    95.    96.    97.    98.    99.   100.\n",
        "   101.   102.   103.   104.   105.   106.   107.   108.   109.   110.\n",
        "   111.   112.   113.   114.   115.   116.   117.   118.   119.   120.\n",
        "   121.   122.   123.   124.   125.   126.   127.   128.   129.   130.\n",
        "   131.   132.   133.   134.   135.   136.   137.   138.   139.   140.\n",
        "   141.   142.   143.   144.   145.   146.   147.   148.   149.   150.\n",
        "   151.   152.   153.   154.   155.   156.   157.   158.   159.   160.\n",
        "   161.   162.   163.   164.   165.   166.   167.   168.   169.   170.\n",
        "   171.   172.   173.   174.   175.   176.   177.   178.   179.   180.\n",
        "   181.   182.   183.   184.   185.   186.   187.   188.   189.   190.\n",
        "   191.   192.   193.   194.   195.   196.   197.   198.   199.   200.\n",
        "   201.   202.   203.   204.   205.   206.   207.   208.   209.   210.\n",
        "   211.   212.   213.   214.   215.   216.   217.   218.   219.   220.\n",
        "   221.   222.   223.   224.   225.   226.   227.   228.   229.   230.\n",
        "   231.   232.   233.   234.   235.   236.   237.   238.   239.   240.\n",
        "   241.   242.   243.   244.   245.   246.   247.   248.   249.   250.\n",
        "   251.   252.   253.   254.   255.   256.   257.   258.   259.   260.\n",
        "   261.   262.   263.   264.   265.   266.   267.   268.   269.   270.\n",
        "   271.   272.   273.   274.   275.   276.   277.   278.   279.   280.\n",
        "   281.   282.   283.   284.   285.   286.   287.   288.   289.   290.\n",
        "   291.   292.   293.   294.   295.   296.   297.   298.   299.   300.\n",
        "   301.   302.   303.   304.   305.   306.   307.   308.   309.   310.\n",
        "   311.   312.   313.   314.   315.   316.   317.   318.   319.   320.\n",
        "   321.   322.   323.   324.   325.   326.   327.   328.   329.   330.\n",
        "   331.   332.   333.   334.   335.   336.   337.   338.   339.   340.\n",
        "   341.   342.   343.   344.   345.   346.   347.   348.   349.   350.\n",
        "   351.   352.   353.   354.   355.   356.   357.   358.   359.   360.\n",
        "   361.   362.   363.   364.   365.   366.   367.   368.   369.   370.\n",
        "   371.   372.   373.   374.   375.   376.   377.   378.   379.   380.\n",
        "   381.   382.   383.   384.   385.   386.   387.   388.   389.   390.\n",
        "   391.   392.   393.   394.   395.   396.   397.   398.   399.   400.\n",
        "   401.   402.   403.   404.   405.   406.   407.   408.   409.   410.\n",
        "   411.   412.   413.   414.   415.   416.   417.   418.   419.   420.\n",
        "   421.   422.   423.   424.   425.   426.   427.   428.   429.   430.\n",
        "   431.   432.   433.   434.   435.   436.   437.   438.   439.   440.\n",
        "   441.   442.   443.   444.   445.   446.   447.   448.   449.   450.\n",
        "   451.   452.   453.   454.   455.   456.   457.   458.   459.   460.\n",
        "   461.   462.   463.   464.   465.   466.   467.   468.   469.   470.\n",
        "   471.   472.   473.   474.   475.   476.   477.   478.   479.   480.\n",
        "   481.   482.   483.   484.   485.   486.   487.   488.   489.   490.\n",
        "   491.   492.   493.   494.   495.   496.   497.   498.   499.   500.\n",
        "   501.   502.   503.   504.   505.   506.   507.   508.   509.   510.\n",
        "   511.   512.   513.   514.   515.   516.   517.   518.   519.   520.\n",
        "   521.   522.   523.   524.   525.   526.   527.   528.   529.   530.\n",
        "   531.   532.   533.   534.   535.   536.   537.   538.   539.   540.\n",
        "   541.   542.   543.   544.   545.   546.   547.   548.   549.   550.\n",
        "   551.   552.   553.   554.   555.   556.   557.   558.   559.   560.\n",
        "   561.   562.   563.   564.   565.   566.   567.   568.   569.   570.\n",
        "   571.   572.   573.   574.   575.   576.   577.   578.   579.   580.\n",
        "   581.   582.   583.   584.   585.   586.   587.   588.   589.   590.\n",
        "   591.   592.   593.   594.   595.   596.   597.   598.   599.   600.\n",
        "   601.   602.   603.   604.   605.   606.   607.   608.   609.   610.\n",
        "   611.   612.   613.   614.   615.   616.   617.   618.   619.   620.\n",
        "   621.   622.   623.   624.   625.   626.   627.   628.   629.   630.\n",
        "   631.   632.   633.   634.   635.   636.   637.   638.   639.   640.\n",
        "   641.   642.   643.   644.   645.   646.   647.   648.   649.   650.\n",
        "   651.   652.   653.   654.   655.   656.   657.   658.   659.   660.\n",
        "   661.   662.   663.   664.   665.   666.   667.   668.   669.   670.\n",
        "   671.   672.   673.   674.   675.   676.   677.   678.   679.   680.\n",
        "   681.   682.   683.   684.   685.   686.   687.   688.   689.   690.\n",
        "   691.   692.   693.   694.   695.   696.   697.   698.   699.   700.\n",
        "   701.   702.   703.   704.   705.   706.   707.   708.   709.   710.\n",
        "   711.   712.   713.   714.   715.   716.   717.   718.   719.   720.\n",
        "   721.   722.   723.   724.   725.   726.   727.   728.   729.   730.\n",
        "   731.   732.   733.   734.   735.   736.   737.   738.   739.   740.\n",
        "   741.   742.   743.   744.   745.   746.   747.   748.   749.   750.\n",
        "   751.   752.   753.   754.   755.   756.   757.   758.   759.   760.\n",
        "   761.   762.   763.   764.   765.   766.   767.   768.   769.   770.\n",
        "   771.   772.   773.   774.   775.   776.   777.   778.   779.   780.\n",
        "   781.   782.   783.   784.   785.   786.   787.   788.   789.   790.\n",
        "   791.   792.   793.   794.   795.   796.   797.   798.   799.   800.\n",
        "   801.   802.   803.   804.   805.   806.   807.   808.   809.   810.\n",
        "   811.   812.   813.   814.   815.   816.   817.   818.   819.   820.\n",
        "   821.   822.   823.   824.   825.   826.   827.   828.   829.   830.\n",
        "   831.   832.   833.   834.   835.   836.   837.   838.   839.   840.\n",
        "   841.   842.   843.   844.   845.   846.   847.   848.   849.   850.\n",
        "   851.   852.   853.   854.   855.   856.   857.   858.   859.   860.\n",
        "   861.   862.   863.   864.   865.   866.   867.   868.   869.   870.\n",
        "   871.   872.   873.   874.   875.   876.   877.   878.   879.   880.\n",
        "   881.   882.   883.   884.   885.   886.   887.   888.   889.   890.\n",
        "   891.   892.   893.   894.   895.   896.   897.   898.   899.   900.\n",
        "   901.   902.   903.   904.   905.   906.   907.   908.   909.   910.\n",
        "   911.   912.   913.   914.   915.   916.   917.   918.   919.   920.\n",
        "   921.   922.   923.   924.   925.   926.   927.   928.   929.   930.\n",
        "   931.   932.   933.   934.   935.   936.   937.   938.   939.   940.\n",
        "   941.   942.   943.   944.   945.   946.   947.   948.   949.   950.\n",
        "   951.   952.   953.   954.   955.   956.   957.   958.   959.   960.\n",
        "   961.   962.   963.   964.   965.   966.   967.   968.   969.   970.\n",
        "   971.   972.   973.   974.   975.   976.   977.   978.   979.   980.\n",
        "   981.   982.   983.   984.   985.   986.   987.   988.   989.   990.\n",
        "   991.   992.   993.   994.   995.   996.   997.   998.   999.  1000.]\n"
       ]
      }
     ],
     "prompt_number": 34
    },
    {
     "cell_type": "code",
     "collapsed": false,
     "input": [
      "j = 0\n",
      "for t in trange:    \n",
      "    i=0\n",
      "    for X in Xrange:\n",
      "        u[i,j,1] = X \n",
      "        u[i,j,2] = t\n",
      "        u[i,j,3] = n\n",
      "        k=0\n",
      "        for n in nrange:\n",
      "            Tsum[k] = (2/(L*(((2*n-1)*pi)/2*L)))*sin(((2*n-1)*pi/(2*L))*X)*exp(-D*((2*n-1)*pi/(2*L))**2*t)\n",
      "            k+=1     \n",
      "        u[i,j,0]= numpy.ndarray.sum(Tsum)   \n",
      "        i+=1   \n",
      "    j+=1  "
     ],
     "language": "python",
     "metadata": {},
     "outputs": [],
     "prompt_number": 35
    },
    {
     "cell_type": "code",
     "collapsed": false,
     "input": [
      "positionn1 = u[:,0,1]\n",
      "temperaturen1 = u[:,0,0]\n",
      "\n",
      "\n",
      "fig1 = plt.figure()\n",
      "plt.figure(figsize=(12,8));\n",
      "plt.plot(positionn1,temperaturen1)\n",
      "\n",
      "plt.grid(True);\n",
      "plt.title('HW4 Problem 1c, Temp vs. Position Plot for n=1000');\n",
      "plt.xlabel(r'Position (X)', fontsize=18);\n",
      "plt.ylabel(r'Temp (T)', fontsize=18);\n",
      "#plt.ylim(0,.26)\n",
      "#plt.xlim(0,1)\n"
     ],
     "language": "python",
     "metadata": {},
     "outputs": [
      {
       "metadata": {},
       "output_type": "pyout",
       "prompt_number": 36,
       "text": [
        "<matplotlib.text.Text at 0x7f666a1b3410>"
       ]
      },
      {
       "metadata": {},
       "output_type": "display_data",
       "text": [
        "<matplotlib.figure.Figure at 0x7f667012c690>"
       ]
      },
      {
       "metadata": {},
       "output_type": "display_data",
       "png": "[encoded data removed]",
       "text": [
        "<matplotlib.figure.Figure at 0x7f667012c510>"
       ]
      }
     ],
     "prompt_number": 36
    },
    {
     "cell_type": "code",
     "collapsed": false,
     "input": [
      "##Coded by Matt Bornemeier"
     ],
     "language": "python",
     "metadata": {},
     "outputs": [],
     "prompt_number": 37
    }
   ],
   "metadata": {}
  }
 ]
}