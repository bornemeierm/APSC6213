{
 "metadata": {
  "name": "",
  "signature": "sha256:6d3bea4d3f3c2c66819fe8a958479a1c9622c074dcb12109a64ce432a84513b3"
 },
 "nbformat": 3,
 "nbformat_minor": 0,
 "worksheets": [
  {
   "cells": [
    {
     "cell_type": "code",
     "collapsed": false,
     "input": [
      "##1-D Heat PDE"
     ],
     "language": "python",
     "metadata": {},
     "outputs": [],
     "prompt_number": 37
    },
    {
     "cell_type": "code",
     "collapsed": false,
     "input": [
      "##inits\n",
      "import sympy;\n",
      "import numpy;\n",
      "import matplotlib.pyplot as plot\n",
      "import math;\n",
      "from mpl_toolkits.mplot3d import Axes3D\n",
      "%matplotlib inline"
     ],
     "language": "python",
     "metadata": {},
     "outputs": [],
     "prompt_number": 38
    },
    {
     "cell_type": "code",
     "collapsed": false,
     "input": [
      "#I.C.'s\n",
      "L = 1.0                          #length of bar                         #number of n's in solution\n",
      "dx = 1000.\n",
      "totaltime = 5\n",
      "n=int(1);\n",
      "\n",
      "nrange = linspace(1,n,n)\n",
      "Xrange = linspace(0,1,dx)        #range of values from 0 to 1 across the bar that we want to sample\n",
      "trange = linspace(0,totaltime,totaltime)\n",
      "D =  .000003352                  #Thermal diffusivity of stainless steel at 25degrees C\n",
      "u = numpy.zeros((dx,totaltime,4))        #Solution array: 101 rows, 5 columns (for t=0,1,2,3,4), \n",
      "                                 #    and 4 elements (Temp(T), position along bar (X), time(t), number of terms in series(n)\n",
      "\n",
      "                \n",
      "   \n",
      "#T0 = linspace(0,10,11)\n",
      "\n",
      "#for in range(0,1,11)\n",
      "#    T0=(4/pi)*((-1)**(n0+1)/(2*n0-1))*cos(((2*n0-1)*pi*X)/2*L)*e**((-D)*0*(2*n0-1)**2*pi**2)/(4*L**2)   #Temperature at x=0\n",
      "Tsum = numpy.linspace(1,n,n)\n",
      "\n",
      "print(nrange)"
     ],
     "language": "python",
     "metadata": {},
     "outputs": [
      {
       "output_type": "stream",
       "stream": "stdout",
       "text": [
        "[ 1.]\n"
       ]
      }
     ],
     "prompt_number": 39
    },
    {
     "cell_type": "code",
     "collapsed": false,
     "input": [
      "i = 0\n",
      "j = 0\n",
      "k=0\n",
      "\n",
      "for t in trange:    \n",
      "    i=0\n",
      "    for X in Xrange:\n",
      "        u[i,j,1] = X \n",
      "        u[i,j,2] = t\n",
      "        u[i,j,3] = n\n",
      "        k=0\n",
      "        for n in nrange:\n",
      "            Tsum[k] = 8/(pi**2)*(1)/((2*n-1)**2)*cos(((2*n-1)*pi*(X))/2*L)*exp((-D*t*((2*n-1)**2)*(pi**2))/(4*L**2))\n",
      "            #print(j,i,k)\n",
      "            k+=1 \n",
      "        u[i,j,0] = numpy.ndarray.sum(Tsum)\n",
      "        \n",
      "        i+=1\n",
      "    j+=1    \n",
      "\n",
      "#Solution array: \n",
      "# Temp(T),   position along bar (X),   time(t),     number of terms in series(n)"
     ],
     "language": "python",
     "metadata": {},
     "outputs": [],
     "prompt_number": 40
    },
    {
     "cell_type": "code",
     "collapsed": false,
     "input": [
      "positiont0 = u[:,0,1]\n",
      "temperaturet0= u[:,0,0]\n",
      "fig1 = plt.figure()\n",
      "plt.figure(figsize=(12,8));\n",
      "plt.plot(positiont0,temperaturet0)\n",
      "plt.grid(True);\n",
      "plt.title('Temp vs. Position n=1');\n",
      "plt.xlabel(r'Position (X)', fontsize=18);\n",
      "plt.ylabel(r'Temp (T)', fontsize=18);\n",
      "plt.ylim(0,1.4)\n",
      "plt.xlim(0,1)\n",
      "\n",
      "\n",
      "\n",
      "#positiont0 = u[:,1]\n",
      "#temperaturet0= u[:,0]\n",
      "\n",
      "\n"
     ],
     "language": "python",
     "metadata": {},
     "outputs": [
      {
       "metadata": {},
       "output_type": "pyout",
       "prompt_number": 41,
       "text": [
        "(0, 1)"
       ]
      },
      {
       "metadata": {},
       "output_type": "display_data",
       "text": [
        "<matplotlib.figure.Figure at 0x7f1e11f4a310>"
       ]
      },
      {
       "metadata": {},
       "output_type": "display_data",
       "png": "[encoded data removed]",
       "text": [
        "<matplotlib.figure.Figure at 0x7f1e11f4acd0>"
       ]
      }
     ],
     "prompt_number": 41
    },
    {
     "cell_type": "code",
     "collapsed": false,
     "input": [
      "#positiont1 = u[:,75,1]  #input a t value 0-100seconds in middle term,\n",
      "#temperaturet1= u[:,75,0]\n",
      "#fig2 = plt.figure()\n",
      "#plt.figure(figsize=(12,8));\n",
      "\n",
      "#plt.grid(True);\n",
      "#plt.title('Temp vs. Position n=50 t=75s');\n",
      "#plt.xlabel(r'Position (X)', fontsize=18);\n",
      "#plt.ylabel(r'Temp (T)', fontsize=18);\n",
      "#plt.plot(positiont1,temperaturet1)"
     ],
     "language": "python",
     "metadata": {},
     "outputs": [],
     "prompt_number": 42
    },
    {
     "cell_type": "code",
     "collapsed": false,
     "input": [
      "'''v0max = numpy.zeros((1,3))\n",
      "I = 25  #number of v0 values\n",
      "J = 25  #number of theta0 values per v0 value \n",
      "IVmax = numpy.array([0,0,0,0])\n",
      "pi = math.pi\n",
      "v0_range = numpy.linspace(1,25,I)\n",
      "theta0_range = numpy.linspace(-pi/4,pi/4,J)\n",
      "\n",
      "solution = numpy.zeros((I*J+1,I*J+1,4))         ###1st column:x  2nd:time  3rd:v0  4th:theta0\n",
      "k = 0\n",
      "m = 0\n",
      "\n",
      "for theta0 in theta0_range:\n",
      "    u[0] = numpy.array([v0, theta0, x0, y0])\n",
      "    for v0 in v0_range:\n",
      "        N = int(T/dt) + 1                       # number of time-steps\n",
      "        u = np.zeros((N,4))\n",
      "        u[0] = numpy.array([v0, theta0, x0, y0])\n",
      "        for n in range (N-1):\n",
      "            u[n+1] = euler_method(u[n], f, dt)\n",
      "            if u[n+1,3] <= 0:\n",
      "                solution[m,k,0] = u[n+1,2]\n",
      "                solution[m,k,1] = (n+1) * dt\n",
      "                solution[m,k,2] = v0\n",
      "                solution[m,k,3]= theta0\n",
      "                #print(solution[m,k])  \n",
      "                break\n",
      "        if solution[m,k,0]>IVmax[0]:\n",
      "            IVmax=solution[m,k]\n",
      "\n",
      "            \n",
      "        k += 1\n",
      "    m += 1 \n",
      "print(IVmax) '''   \n"
     ],
     "language": "python",
     "metadata": {},
     "outputs": [
      {
       "metadata": {},
       "output_type": "pyout",
       "prompt_number": 43,
       "text": [
        "'v0max = numpy.zeros((1,3))\\nI = 25  #number of v0 values\\nJ = 25  #number of theta0 values per v0 value \\nIVmax = numpy.array([0,0,0,0])\\npi = math.pi\\nv0_range = numpy.linspace(1,25,I)\\ntheta0_range = numpy.linspace(-pi/4,pi/4,J)\\n\\nsolution = numpy.zeros((I*J+1,I*J+1,4))         ###1st column:x  2nd:time  3rd:v0  4th:theta0\\nk = 0\\nm = 0\\n\\nfor theta0 in theta0_range:\\n    u[0] = numpy.array([v0, theta0, x0, y0])\\n    for v0 in v0_range:\\n        N = int(T/dt) + 1                       # number of time-steps\\n        u = np.zeros((N,4))\\n        u[0] = numpy.array([v0, theta0, x0, y0])\\n        for n in range (N-1):\\n            u[n+1] = euler_method(u[n], f, dt)\\n            if u[n+1,3] <= 0:\\n                solution[m,k,0] = u[n+1,2]\\n                solution[m,k,1] = (n+1) * dt\\n                solution[m,k,2] = v0\\n                solution[m,k,3]= theta0\\n                #print(solution[m,k])  \\n                break\\n        if solution[m,k,0]>IVmax[0]:\\n            IVmax=solution[m,k]\\n\\n            \\n        k += 1\\n    m += 1 \\nprint(IVmax) '"
       ]
      }
     ],
     "prompt_number": 43
    },
    {
     "cell_type": "code",
     "collapsed": false,
     "input": [],
     "language": "python",
     "metadata": {},
     "outputs": [],
     "prompt_number": 43
    },
    {
     "cell_type": "code",
     "collapsed": false,
     "input": [],
     "language": "python",
     "metadata": {},
     "outputs": [],
     "prompt_number": 43
    },
    {
     "cell_type": "code",
     "collapsed": false,
     "input": [],
     "language": "python",
     "metadata": {},
     "outputs": [],
     "prompt_number": 43
    }
   ],
   "metadata": {}
  }
 ]
}